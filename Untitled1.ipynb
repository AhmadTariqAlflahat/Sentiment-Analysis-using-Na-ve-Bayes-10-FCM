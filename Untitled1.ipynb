{
 "cells": [
  {
   "cell_type": "code",
   "execution_count": 1,
   "metadata": {},
   "outputs": [],
   "source": [
    "import glob\n",
    "import codecs\n",
    "import numpy\n",
    "from pandas import DataFrame\n",
    "from sklearn.naive_bayes import MultinomialNB\n",
    "from sklearn.feature_extraction.text import CountVectorizer, TfidfTransformer\n",
    "from sklearn.pipeline import Pipeline\n",
    "from sklearn.model_selection import KFold\n",
    "from sklearn.metrics import f1_score, confusion_matrix\n",
    "\n",
    "SOURCES = [\n",
    "    ('imdb1//pos//*.txt', 'GOOD'),\n",
    "    ('imdb1//neg//*.txt', 'BAD')\n",
    "]"
   ]
  },
  {
   "cell_type": "code",
   "execution_count": 2,
   "metadata": {},
   "outputs": [],
   "source": [
    "def read_files(path):\n",
    "    files = glob.glob(path)\n",
    "    for file in files:\n",
    "        with codecs.open(file,'r', encoding='utf8', errors='ignore') as f:\n",
    "            text = f.read()\n",
    "            text = text.replace('\\n',' ')\n",
    "            yield file, text"
   ]
  },
  {
   "cell_type": "code",
   "execution_count": 3,
   "metadata": {},
   "outputs": [],
   "source": [
    "def build_data_frame(path, classification):\n",
    "    rows = []\n",
    "    index = []\n",
    "    for file_name, text in read_files(path):\n",
    "        rows.append({'text': text, 'class': classification})\n",
    "        index.append(file_name)\n",
    "    data_frame = DataFrame(rows, index=index)\n",
    "    return data_frame"
   ]
  },
  {
   "cell_type": "code",
   "execution_count": 4,
   "metadata": {},
   "outputs": [],
   "source": [
    "data = DataFrame({'text':[],'class':[]})\n",
    "for path, classification in SOURCES:\n",
    "    data = data.append(build_data_frame(path, classification))\n",
    "    \n",
    "data = data.reindex(numpy.random.permutation(data.index))"
   ]
  },
  {
   "cell_type": "code",
   "execution_count": 5,
   "metadata": {},
   "outputs": [],
   "source": [
    "pipline = Pipeline([\n",
    "    ('vect', CountVectorizer(ngram_range=(2, 2), lowercase=True)),\n",
    "    ('tfidf', TfidfTransformer(use_idf=True, smooth_idf=True)),\n",
    "    ('clf', MultinomialNB(alpha=1))\n",
    "])"
   ]
  },
  {
   "cell_type": "code",
   "execution_count": 6,
   "metadata": {},
   "outputs": [],
   "source": [
    "k_fold = KFold(n_splits=10)\n",
    "scores = []\n",
    "confusion = numpy.array([[0,0], [0,0]])\n",
    "for train_indices, test_indices in k_fold.split(data):\n",
    "    train_text = data.iloc[train_indices]['text'].values\n",
    "    train_y = data.iloc[train_indices]['class'].values.astype(str)\n",
    "    \n",
    "    test_text = data.iloc[test_indices]['text'].values\n",
    "    test_y = data.iloc[test_indices]['class'].values.astype(str)\n",
    "    pipline.fit(train_text, train_y)\n",
    "    predictions = pipline.predict(test_text)\n",
    "    \n",
    "    confusion += confusion_matrix(test_y, predictions)\n",
    "    score = f1_score(test_y, predictions, pos_label='GOOD')\n",
    "    scores.append (score)"
   ]
  },
  {
   "cell_type": "code",
   "execution_count": 7,
   "metadata": {},
   "outputs": [
    {
     "name": "stdout",
     "output_type": "stream",
     "text": [
      "Total documents classified:  2000\n",
      "score:  0.84\n",
      "Confusion matrix:\n",
      "[[780 220]\n",
      " [111 889]]\n"
     ]
    }
   ],
   "source": [
    "print('Total documents classified: ', len(data))\n",
    "print('score: ', round(sum(scores)/len(scores),2))\n",
    "print('Confusion matrix:')\n",
    "print(confusion)"
   ]
  },
  {
   "cell_type": "code",
   "execution_count": 8,
   "metadata": {},
   "outputs": [
    {
     "data": {
      "text/plain": [
       "array(['BAD'], dtype='<U4')"
      ]
     },
     "execution_count": 8,
     "metadata": {},
     "output_type": "execute_result"
    }
   ],
   "source": [
    "pipline.predict(['good'])"
   ]
  },
  {
   "cell_type": "code",
   "execution_count": null,
   "metadata": {},
   "outputs": [],
   "source": [
    "import numpy as np\n",
    "in_arr1 = geek.array([[2, -7, 5], [-6, 2, 0]]) \n",
    "in_arr2 = geek.array([[5, 8, -5], [3, 6, 9]]) "
   ]
  }
 ],
 "metadata": {
  "kernelspec": {
   "display_name": "Python 3",
   "language": "python",
   "name": "python3"
  },
  "language_info": {
   "codemirror_mode": {
    "name": "ipython",
    "version": 3
   },
   "file_extension": ".py",
   "mimetype": "text/x-python",
   "name": "python",
   "nbconvert_exporter": "python",
   "pygments_lexer": "ipython3",
   "version": "3.7.4"
  }
 },
 "nbformat": 4,
 "nbformat_minor": 2
}
